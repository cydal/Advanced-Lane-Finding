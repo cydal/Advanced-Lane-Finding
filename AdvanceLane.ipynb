{
 "cells": [
  {
   "cell_type": "code",
   "execution_count": 1,
   "metadata": {
    "collapsed": true
   },
   "outputs": [],
   "source": [
    "import preprocess as p\n",
    "import numpy as np\n",
    "import cv2\n",
    "import matplotlib.pyplot as plt\n",
    "import matplotlib.image as mpimg\n",
    "import pickle\n",
    "from scipy.signal import find_peaks_cwt\n",
    "import os\n",
    "\n",
    "%matplotlib inline"
   ]
  },
  {
   "cell_type": "code",
   "execution_count": 2,
   "metadata": {
    "collapsed": false
   },
   "outputs": [],
   "source": [
    "image =  mpimg.imread(os.path.join(\"test_images\", \"test3.jpg\"))\n",
    "\n",
    "NORM_TOL = 50\n",
    "N_FRAMES = 15\n",
    "SHAPE = [image.shape[0], image.shape[1]]\n",
    "breaks = 8\n",
    "offset = 0\n",
    "Minv = p.inv()"
   ]
  },
  {
   "cell_type": "code",
   "execution_count": 3,
   "metadata": {
    "collapsed": true
   },
   "outputs": [],
   "source": [
    "# Define a class to receive the characteristics of each line detection\n",
    "class Line():\n",
    "    def __init__(self):\n",
    "        # was the line detected in the last iteration?\n",
    "        self.detected = False  \n",
    "        # x values of the last n fits of the line\n",
    "        self.recent_coeff = [] \n",
    "\n",
    "        #polynomial coefficients averaged over the last n iterations\n",
    "        self.best_fit = None  \n",
    "        #polynomial coefficients for the most recent fit\n",
    "        self.current_fit = None\n",
    "        #radius of curvature of the line in some units\n",
    "        self.radius_of_curvature = None \n",
    "        \n",
    "        self.prev_rad = []\n",
    "        \n",
    "        self.prev_pos = []\n",
    "        \n",
    "        #distance in meters of vehicle center from the line\n",
    "        self.line_base_pos = None \n",
    "\n",
    "        #x values for detected line pixels\n",
    "        self.allx = None  \n",
    "        #y values for detected line pixels\n",
    "        self.ally = None\n",
    "        \n",
    "        self.skipped = 0\n",
    "        \n",
    "        \n",
    "        self.count = 0"
   ]
  },
  {
   "cell_type": "code",
   "execution_count": 15,
   "metadata": {
    "collapsed": true
   },
   "outputs": [],
   "source": [
    "leftLine, rightLine = Line(), Line()"
   ]
  },
  {
   "cell_type": "code",
   "execution_count": 16,
   "metadata": {
    "collapsed": true
   },
   "outputs": [],
   "source": [
    "def detect_lanes_sliding(im, left, right):\n",
    "# Assuming you have created a warped binary image called \"binary_warped\"\n",
    "    # Take a histogram of the bottom half of the image\n",
    "    histogram = np.sum(im[int(im.shape[0]/2):,:], axis=0)\n",
    "    # Create an output image to draw on and  visualize the result\n",
    "    out_img = np.dstack((im, im, im))*255\n",
    "    # Find the peak of the left and right halves of the histogram\n",
    "    # These will be the starting point for the left and right lines\n",
    "    midpoint = np.int(histogram.shape[0]/2)\n",
    "    leftx_base = np.argmax(histogram[:midpoint])\n",
    "    histogram = np.sum(im[int(im.shape[0]/2):,:], axis=0)\n",
    "    rightx_base = np.argmax(histogram[midpoint:]) + midpoint\n",
    "\n",
    "    # Choose the number of sliding windows\n",
    "    nwindows = 9\n",
    "    # Set height of windows\n",
    "    window_height = np.int(int(im.shape[0]/nwindows))\n",
    "    # Identify the x and y positions of all nonzero pixels in the image\n",
    "    nonzero = im.nonzero()\n",
    "    nonzeroy = np.array(nonzero[0])\n",
    "    nonzerox = np.array(nonzero[1])\n",
    "    # Current positions to be updated for each window\n",
    "    leftx_current = leftx_base\n",
    "    rightx_current = rightx_base\n",
    "    # Set the width of the windows +/- margin\n",
    "    margin = 100\n",
    "    # Set minimum number of pixels found to recenter window\n",
    "    minpix = 50\n",
    "    # Create empty lists to receive left and right lane pixel indices\n",
    "    left_lane_inds = []\n",
    "    right_lane_inds = []\n",
    "\n",
    "    # Step through the windows one by one\n",
    "    for window in range(nwindows):\n",
    "        # Identify window boundaries in x and y (and right and left)\n",
    "        win_y_low = im.shape[0] - (window+1)*window_height\n",
    "        win_y_high = im.shape[0] - window*window_height\n",
    "        win_xleft_low = leftx_current - margin\n",
    "        win_xleft_high = leftx_current + margin\n",
    "        win_xright_low = rightx_current - margin\n",
    "        win_xright_high = rightx_current + margin\n",
    "\n",
    "        # Identify the nonzero pixels in x and y within the window\n",
    "        good_left_inds = ((nonzeroy >= win_y_low) & (nonzeroy < win_y_high) & (nonzerox >= win_xleft_low) & (nonzerox < win_xleft_high)).nonzero()[0]\n",
    "        good_right_inds = ((nonzeroy >= win_y_low) & (nonzeroy < win_y_high) & (nonzerox >= win_xright_low) & (nonzerox < win_xright_high)).nonzero()[0]\n",
    "        \n",
    "        \n",
    "        # Append these indices to the lists\n",
    "        left_lane_inds.append(good_left_inds)\n",
    "        right_lane_inds.append(good_right_inds)\n",
    "        \n",
    "        \n",
    "        # If you found > minpix pixels, recenter next window on their mean position\n",
    "        if len(good_left_inds) > minpix:\n",
    "            leftx_current = np.int(np.mean(nonzerox[good_left_inds]))\n",
    "        if len(good_right_inds) > minpix:        \n",
    "            rightx_current = np.int(np.mean(nonzerox[good_right_inds]))\n",
    "            \n",
    "\n",
    "    # Concatenate the arrays of indices\n",
    "    left_lane_inds = np.concatenate(left_lane_inds)\n",
    "    right_lane_inds = np.concatenate(right_lane_inds)\n",
    "\n",
    "    # Extract left and right line pixel positions\n",
    "    leftx = nonzerox[left_lane_inds]\n",
    "    lefty = nonzeroy[left_lane_inds] \n",
    "    rightx = nonzerox[right_lane_inds]\n",
    "    righty = nonzeroy[right_lane_inds] \n",
    "\n",
    "    # Fit a second order polynomial to each\n",
    "    left_fit = np.polyfit(lefty, leftx, 2)\n",
    "    right_fit = np.polyfit(righty, rightx, 2)\n",
    "    \n",
    "    left.best_fit = left_fit\n",
    "    right.best_fit = right_fit\n",
    "    "
   ]
  },
  {
   "cell_type": "code",
   "execution_count": 17,
   "metadata": {
    "collapsed": true
   },
   "outputs": [],
   "source": [
    "def detect_lanes_sliding(im, line, left=True):\n",
    "# Assuming you have created a warped binary image called \"binary_warped\"\n",
    "    # Take a histogram of the bottom half of the image\n",
    "    histogram = np.sum(im[int(im.shape[0]/2):,:], axis=0)\n",
    "    # Create an output image to draw on and  visualize the result\n",
    "    out_img = np.dstack((im, im, im))*255\n",
    "    # Find the peak of the left and right halves of the histogram\n",
    "    # These will be the starting point for the left and right lines\n",
    "    midpoint = np.int(histogram.shape[0]/2)\n",
    "    \n",
    "    x_base = None\n",
    "    \n",
    "    if left:\n",
    "        x_base = np.argmax(histogram[:midpoint])\n",
    "    else:\n",
    "        x_base = np.argmax(histogram[midpoint:]) + midpoint\n",
    "    \n",
    "    \n",
    "\n",
    "    # Choose the number of sliding windows\n",
    "    nwindows = 9\n",
    "    # Set height of windows\n",
    "    window_height = np.int(int(im.shape[0]/nwindows))\n",
    "    # Identify the x and y positions of all nonzero pixels in the image\n",
    "    nonzero = im.nonzero()\n",
    "    nonzeroy = np.array(nonzero[0])\n",
    "    nonzerox = np.array(nonzero[1])\n",
    "    # Current positions to be updated for each window\n",
    "    x_current = x_base\n",
    "    # Set the width of the windows +/- margin\n",
    "    margin = 100\n",
    "    # Set minimum number of pixels found to recenter window\n",
    "    minpix = 50\n",
    "    # Create empty lists to receive lane pixel indices\n",
    "    lane_inds = []\n",
    "\n",
    "    # Step through the windows one by one\n",
    "    for window in range(nwindows):\n",
    "        # Identify window boundaries in x and y (and right and left)\n",
    "        win_y_low = im.shape[0] - (window+1)*window_height\n",
    "        win_y_high = im.shape[0] - window*window_height\n",
    "        win_low = x_current - margin\n",
    "        win_high = x_current + margin\n",
    "\n",
    "        good_inds = None\n",
    "\n",
    "        # Identify the nonzero pixels in x and y within the window\n",
    "        if left:\n",
    "            good_inds = ((nonzeroy >= win_y_low) & (nonzeroy < win_y_high) & (nonzerox >= win_low) & (nonzerox < win_high)).nonzero()[0]\n",
    "        else:\n",
    "            good_inds = ((nonzeroy >= win_y_low) & (nonzeroy < win_y_high) & (nonzerox >= win_low) & (nonzerox < win_high)).nonzero()[0]\n",
    "        \n",
    "        \n",
    "        # Append these indices to the lists\n",
    "        lane_inds.append(good_inds)\n",
    "        \n",
    "        \n",
    "        # If you found > minpix pixels, recenter next window on their mean position\n",
    "        if len(good_inds) > minpix:\n",
    "            x_current = np.int(np.mean(nonzerox[good_inds]))\n",
    "            \n",
    "            ## If number of detected points less than n, not a good fit\n",
    "    if len(good_inds) < 4:\n",
    "        line.detected = False\n",
    "        line.count += 1\n",
    "        return\n",
    "\n",
    "    # Concatenate the arrays of indices\n",
    "    lane_inds = np.concatenate(lane_inds)\n",
    "\n",
    "    # Extract left and right line pixel positions\n",
    "    x = nonzerox[lane_inds]\n",
    "    y = nonzeroy[lane_inds] \n",
    "\n",
    "    # Fit a second order polynomial to each\n",
    "    fit = np.polyfit(y, x, 2)\n",
    "    \n",
    "    ## Check to see if the current fit deviates by much from the average of previous fits\n",
    "    if len(line.recent_coeff) > 1:\n",
    "        line.best_fit = np.array(line.recent_coeff[-N_FRAMES:]).mean(0)\n",
    "        best_norm = np.linalg.norm(line.best_fit)\n",
    "        norm = np.linalg.norm(fit)\n",
    "        \n",
    "        if abs(best_norm - norm) > NORM_TOL:\n",
    "            line.detected = False\n",
    "            line.skipped += 1\n",
    "            line.count += 1\n",
    "            return\n",
    "    else:\n",
    "        line.best_fit = fit\n",
    "        \n",
    "    if line.skipped > 3:\n",
    "        line.detected = False\n",
    "        line.skipped = 0\n",
    "        return\n",
    "    \n",
    "\n",
    "    line.allx = x\n",
    "    line.ally = y\n",
    "    line.detected = True\n",
    "    line.recent_coeff.append(fit)\n",
    "    \n",
    "    "
   ]
  },
  {
   "cell_type": "code",
   "execution_count": 18,
   "metadata": {
    "collapsed": true
   },
   "outputs": [],
   "source": [
    "def detect_lanes(im, left, right):\n",
    "    if left.detected:\n",
    "        detect_noSliding(im, left)\n",
    "    else:\n",
    "        detect_lanes_sliding(im, left)\n",
    "        \n",
    "    if right.detected:\n",
    "        detect_noSliding(im, right, left=False)\n",
    "    else:\n",
    "        detect_lanes_sliding(im, right, left=False)\n",
    "        \n",
    "        \n",
    "    "
   ]
  },
  {
   "cell_type": "code",
   "execution_count": 19,
   "metadata": {
    "collapsed": true
   },
   "outputs": [],
   "source": [
    "def detect_noSliding(im, line, left=True):\n",
    "    \n",
    "    fit = line.best_fit\n",
    "\n",
    "    nonzero = im.nonzero()\n",
    "    nonzeroy = np.array(nonzero[0])\n",
    "    nonzerox = np.array(nonzero[1])\n",
    "    margin = 100\n",
    "    \n",
    "    lane_inds = None\n",
    "    \n",
    "    lane_inds = ((nonzerox > (fit[0]*(nonzeroy**2) + fit[1]*nonzeroy + fit[2] - margin)) & (nonzerox < (fit[0]*(nonzeroy**2) + fit[1]*nonzeroy + fit[2] + margin))) \n",
    "        \n",
    "\n",
    "    # Again, extract left and right line pixel positions\n",
    "    x = nonzerox[lane_inds]\n",
    "    y = nonzeroy[lane_inds] \n",
    "    # Fit a second order polynomial to each\n",
    "    fitCoeff = np.polyfit(y, x, 2)\n",
    "    # Generate x and y values for plotting\n",
    "    ploty = np.linspace(0, im.shape[0]-1, im.shape[0] )\n",
    "    left_fitx = fitCoeff[0]*ploty**2 + fitCoeff[1]*ploty + fitCoeff[2]\n",
    "    \n",
    "    if len(line.recent_coeff) > 1:\n",
    "        line.best_fit = np.array(line.recent_coeff[-N_FRAMES:]).mean(0)\n",
    "        best_norm = np.linalg.norm(line.best_fit)\n",
    "        norm = np.linalg.norm(fit)\n",
    "        \n",
    "        if abs(best_norm - norm) > NORM_TOL:\n",
    "            line.detected = False\n",
    "            line.skipped += 1\n",
    "            line.count += 1\n",
    "            return\n",
    "    else:\n",
    "        line.best_fit = fitCoeff\n",
    "        \n",
    "    if line.skipped > 3:\n",
    "        line.detected = False\n",
    "        line.skipped = 0\n",
    "        return\n",
    "    \n",
    "    \n",
    "    line.allx = x\n",
    "    line.ally = y    \n",
    "    line.detected = True\n",
    "    line.recent_coeff.append(fitCoeff)\n",
    "    \n",
    "    \n",
    "    \n"
   ]
  },
  {
   "cell_type": "code",
   "execution_count": 20,
   "metadata": {
    "collapsed": false
   },
   "outputs": [],
   "source": [
    "def radCurve(line):\n",
    "    ym_per_pix = 30/720 # meters per pixel in y dimension\n",
    "    xm_per_pix = 3.7/700 # meteres per pixel in x dimension\n",
    "    \n",
    "    y_eval = np.max(line.ally)\n",
    "    \n",
    "    # Fit new polynomials to x,y in world space\n",
    "    coef = np.polyfit(line.ally*ym_per_pix, line.allx*xm_per_pix, 2)\n",
    "    \n",
    "    # Calculate the new radii of curvature\n",
    "    curverad = ((1 + (2*coef[0]*y_eval*ym_per_pix + coef[1])**2)**1.5) / np.absolute(2*coef[0])\n",
    "    \n",
    "    curverad = (int(curverad) * 100.0) / 100.0\n",
    "    \n",
    "    return curverad\n",
    "\n",
    "    \n",
    "def relCenter(left, right):\n",
    "    \n",
    "    # Bottom pixel for Lane Line\n",
    "    l = left.best_fit[0] * SHAPE[0]-1 **2 + left.best_fit[1] * SHAPE[0]-1 + left.best_fit[2]\n",
    "    r = right.best_fit[0] * SHAPE[0]-1 **2 + right.best_fit[1] * SHAPE[0]-1 + right.best_fit[2]\n",
    "    \n",
    "    xm_per_pix = 3.7/700\n",
    "        \n",
    "    return int((((SHAPE[1] / 2) - (l + r) / 2) * xm_per_pix)*100) / 100.0"
   ]
  },
  {
   "cell_type": "code",
   "execution_count": 21,
   "metadata": {
    "collapsed": true
   },
   "outputs": [],
   "source": [
    "def mask(im, image, left, right):\n",
    "    \n",
    "    left_fit = left.best_fit\n",
    "    right_fit = right.best_fit\n",
    "\n",
    "    ploty = np.linspace(0, im.shape[0]-1, im.shape[0] )\n",
    "    left_fitx = left_fit[0]*ploty**2 + left_fit[1]*ploty + left_fit[2]\n",
    "    right_fitx = right_fit[0]*ploty**2 + right_fit[1]*ploty + right_fit[2]\n",
    "\n",
    "    # Create an image to draw the lines on\n",
    "    warp_zero = np.zeros_like(im).astype(np.uint8)\n",
    "    color_warp = np.dstack((warp_zero, warp_zero, warp_zero))\n",
    "\n",
    "    # Recast the x and y points into usable format for cv2.fillPoly()\n",
    "    pts_left = np.array([np.transpose(np.vstack([left_fitx, ploty]))])\n",
    "    pts_right = np.array([np.flipud(np.transpose(np.vstack([right_fitx, ploty])))])\n",
    "    pts = np.hstack((pts_left, pts_right))\n",
    "\n",
    "    # Draw the lane onto the warped blank image\n",
    "    cv2.fillPoly(color_warp, np.int_([pts]), (0,50, 200))\n",
    "\n",
    "    # Warp the blank back to original image space using inverse perspective matrix (Minv)\n",
    "    newwarp = cv2.warpPerspective(color_warp, Minv, (image.shape[1], image.shape[0])) \n",
    "    # Combine the result with the original image\n",
    "    result = cv2.addWeighted(p.undistort(image), 1, newwarp, 0.3, 0)\n",
    "    \n",
    "    center = relCenter(left, right)\n",
    "    \n",
    "    \n",
    "    result = cv2.putText(result, \"{}{}\".format(\"Left Curvature: \", radCurve(left)), (600, 60), \n",
    "                                             cv2.FONT_HERSHEY_DUPLEX , 1., (255, 255, 255))\n",
    "    \n",
    "    result = cv2.putText(result, \"{}{}\".format(\"Right Curvature: \", radCurve(right)), (600, 100), \n",
    "                                             cv2.FONT_HERSHEY_DUPLEX , 1., (255, 255, 255))\n",
    "    \n",
    "    result = cv2.putText(result, p.cent(center), (600, 140), \n",
    "                                             cv2.FONT_HERSHEY_DUPLEX , 1., (255, 255, 255))\n",
    "    \n",
    "    return result\n"
   ]
  },
  {
   "cell_type": "code",
   "execution_count": 22,
   "metadata": {
    "collapsed": true
   },
   "outputs": [],
   "source": [
    "def pipeline(image):\n",
    "    im = p.preprocess(image)\n",
    "    \n",
    "    \n",
    "    detect_lanes(im, leftLine, rightLine)\n",
    "    \n",
    "    result = mask(im, image, leftLine, rightLine)\n",
    "    return result"
   ]
  },
  {
   "cell_type": "code",
   "execution_count": 23,
   "metadata": {
    "collapsed": true
   },
   "outputs": [],
   "source": [
    "# Import everything needed to edit/save/watch video clips\n",
    "from moviepy.editor import VideoFileClip\n",
    "from IPython.display import HTML"
   ]
  },
  {
   "cell_type": "code",
   "execution_count": null,
   "metadata": {
    "collapsed": false
   },
   "outputs": [],
   "source": [
    "white_output = 'temp.mp4'\n",
    "clip1 = VideoFileClip(\"project_video.mp4\")\n",
    "white_clip = clip1.fl_image(pipeline) #NOTE: this function expects color images!!\n",
    "%time white_clip.write_videofile(white_output, audio=False)"
   ]
  },
  {
   "cell_type": "code",
   "execution_count": 27,
   "metadata": {
    "collapsed": false,
    "scrolled": false
   },
   "outputs": [
    {
     "data": {
      "text/html": [
       "\n",
       "<video width=\"960\" height=\"540\" controls>\n",
       "  <source src=\"temp.mp4\">\n",
       "</video>\n"
      ],
      "text/plain": [
       "<IPython.core.display.HTML object>"
      ]
     },
     "execution_count": 27,
     "metadata": {},
     "output_type": "execute_result"
    }
   ],
   "source": [
    "HTML(\"\"\"\n",
    "<video width=\"960\" height=\"540\" controls>\n",
    "  <source src=\"{0}\">\n",
    "</video>\n",
    "\"\"\".format(white_output))"
   ]
  },
  {
   "cell_type": "code",
   "execution_count": 34,
   "metadata": {
    "collapsed": false
   },
   "outputs": [
    {
     "data": {
      "text/plain": [
       "(0, 0)"
      ]
     },
     "execution_count": 34,
     "metadata": {},
     "output_type": "execute_result"
    }
   ],
   "source": [
    "leftLine.count, rightLine.count"
   ]
  },
  {
   "cell_type": "code",
   "execution_count": null,
   "metadata": {
    "collapsed": false
   },
   "outputs": [],
   "source": [
    "plt.imshow(pipeline(image))"
   ]
  },
  {
   "cell_type": "code",
   "execution_count": null,
   "metadata": {
    "collapsed": true
   },
   "outputs": [],
   "source": []
  }
 ],
 "metadata": {
  "anaconda-cloud": {},
  "kernelspec": {
   "display_name": "Python [conda root]",
   "language": "python",
   "name": "conda-root-py"
  },
  "language_info": {
   "codemirror_mode": {
    "name": "ipython",
    "version": 3
   },
   "file_extension": ".py",
   "mimetype": "text/x-python",
   "name": "python",
   "nbconvert_exporter": "python",
   "pygments_lexer": "ipython3",
   "version": "3.5.2"
  }
 },
 "nbformat": 4,
 "nbformat_minor": 2
}
